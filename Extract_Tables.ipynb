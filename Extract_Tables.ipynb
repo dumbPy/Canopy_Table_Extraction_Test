{
 "cells": [
  {
   "cell_type": "code",
   "execution_count": 1,
   "metadata": {},
   "outputs": [],
   "source": [
    "import pandas as pd\n",
    "import camelot"
   ]
  },
  {
   "cell_type": "code",
   "execution_count": 2,
   "metadata": {},
   "outputs": [],
   "source": [
    "filename = 'data/canopy_technical_test_input.pdf'"
   ]
  },
  {
   "cell_type": "code",
   "execution_count": 3,
   "metadata": {},
   "outputs": [],
   "source": [
    "tables = camelot.read_pdf(filename, flavor='stream', pages='all')"
   ]
  },
  {
   "cell_type": "code",
   "execution_count": 4,
   "metadata": {},
   "outputs": [
    {
     "data": {
      "text/html": [
       "<div>\n",
       "<style scoped>\n",
       "    .dataframe tbody tr th:only-of-type {\n",
       "        vertical-align: middle;\n",
       "    }\n",
       "\n",
       "    .dataframe tbody tr th {\n",
       "        vertical-align: top;\n",
       "    }\n",
       "\n",
       "    .dataframe thead th {\n",
       "        text-align: right;\n",
       "    }\n",
       "</style>\n",
       "<table border=\"1\" class=\"dataframe\">\n",
       "  <thead>\n",
       "    <tr style=\"text-align: right;\">\n",
       "      <th></th>\n",
       "      <th>0</th>\n",
       "      <th>1</th>\n",
       "      <th>2</th>\n",
       "      <th>3</th>\n",
       "      <th>4</th>\n",
       "      <th>5</th>\n",
       "      <th>6</th>\n",
       "    </tr>\n",
       "  </thead>\n",
       "  <tbody>\n",
       "    <tr>\n",
       "      <th>0</th>\n",
       "      <td>31.03.2018 - 30.04.2018</td>\n",
       "      <td></td>\n",
       "      <td></td>\n",
       "      <td></td>\n",
       "      <td></td>\n",
       "      <td></td>\n",
       "      <td></td>\n",
       "    </tr>\n",
       "    <tr>\n",
       "      <th>1</th>\n",
       "      <td>Account SG1234567-01-01-JPY01 in JPY</td>\n",
       "      <td></td>\n",
       "      <td></td>\n",
       "      <td></td>\n",
       "      <td></td>\n",
       "      <td></td>\n",
       "      <td></td>\n",
       "    </tr>\n",
       "    <tr>\n",
       "      <th>2</th>\n",
       "      <td>Booking Details</td>\n",
       "      <td></td>\n",
       "      <td></td>\n",
       "      <td></td>\n",
       "      <td></td>\n",
       "      <td></td>\n",
       "      <td></td>\n",
       "    </tr>\n",
       "    <tr>\n",
       "      <th>3</th>\n",
       "      <td>Booking Date</td>\n",
       "      <td>Txn Date</td>\n",
       "      <td>Booking Text</td>\n",
       "      <td>Value Date</td>\n",
       "      <td>Debit</td>\n",
       "      <td>Credit</td>\n",
       "      <td>Balance</td>\n",
       "    </tr>\n",
       "    <tr>\n",
       "      <th>4</th>\n",
       "      <td>31.03.2018</td>\n",
       "      <td>31.03.2018</td>\n",
       "      <td>Initial Balance</td>\n",
       "      <td></td>\n",
       "      <td></td>\n",
       "      <td></td>\n",
       "      <td>0.00</td>\n",
       "    </tr>\n",
       "  </tbody>\n",
       "</table>\n",
       "</div>"
      ],
      "text/plain": [
       "                                      0           1                2  \\\n",
       "0               31.03.2018 - 30.04.2018                                \n",
       "1  Account SG1234567-01-01-JPY01 in JPY                                \n",
       "2                       Booking Details                                \n",
       "3                          Booking Date    Txn Date     Booking Text   \n",
       "4                            31.03.2018  31.03.2018  Initial Balance   \n",
       "\n",
       "            3      4       5        6  \n",
       "0                                      \n",
       "1                                      \n",
       "2                                      \n",
       "3  Value Date  Debit  Credit  Balance  \n",
       "4                                0.00  "
      ]
     },
     "execution_count": 4,
     "metadata": {},
     "output_type": "execute_result"
    }
   ],
   "source": [
    "df = tables[0].df\n",
    "df.head()"
   ]
  },
  {
   "cell_type": "markdown",
   "metadata": {},
   "source": [
    "### Cleaning\n",
    "Remove the first few rows that are not part of the table.  \n",
    "Assuming `Booking Date` will always the 1st column header"
   ]
  },
  {
   "cell_type": "code",
   "execution_count": 5,
   "metadata": {},
   "outputs": [
    {
     "data": {
      "text/plain": [
       "3"
      ]
     },
     "execution_count": 5,
     "metadata": {},
     "output_type": "execute_result"
    }
   ],
   "source": [
    "def find_header_row(df):\n",
    "    for i,row in df.iterrows():\n",
    "        if row[0] == 'Booking Date': return i\n",
    "h_row = find_header_row(df)\n",
    "h_row"
   ]
  },
  {
   "cell_type": "code",
   "execution_count": 6,
   "metadata": {},
   "outputs": [
    {
     "data": {
      "text/plain": [
       "['Booking Date',\n",
       " 'Txn Date',\n",
       " 'Booking Text',\n",
       " 'Value Date',\n",
       " 'Debit',\n",
       " 'Credit',\n",
       " 'Balance']"
      ]
     },
     "execution_count": 6,
     "metadata": {},
     "output_type": "execute_result"
    }
   ],
   "source": [
    "headers = list(df.iloc[h_row,:])\n",
    "headers"
   ]
  },
  {
   "cell_type": "code",
   "execution_count": 7,
   "metadata": {},
   "outputs": [],
   "source": [
    "# strip the top part\n",
    "df = df.iloc[h_row+1:,:]\n",
    "# set the header\n",
    "df.columns = headers"
   ]
  },
  {
   "cell_type": "code",
   "execution_count": 8,
   "metadata": {},
   "outputs": [
    {
     "data": {
      "text/html": [
       "<div>\n",
       "<style scoped>\n",
       "    .dataframe tbody tr th:only-of-type {\n",
       "        vertical-align: middle;\n",
       "    }\n",
       "\n",
       "    .dataframe tbody tr th {\n",
       "        vertical-align: top;\n",
       "    }\n",
       "\n",
       "    .dataframe thead th {\n",
       "        text-align: right;\n",
       "    }\n",
       "</style>\n",
       "<table border=\"1\" class=\"dataframe\">\n",
       "  <thead>\n",
       "    <tr style=\"text-align: right;\">\n",
       "      <th></th>\n",
       "      <th>Booking Date</th>\n",
       "      <th>Txn Date</th>\n",
       "      <th>Booking Text</th>\n",
       "      <th>Value Date</th>\n",
       "      <th>Debit</th>\n",
       "      <th>Credit</th>\n",
       "      <th>Balance</th>\n",
       "    </tr>\n",
       "  </thead>\n",
       "  <tbody>\n",
       "    <tr>\n",
       "      <th>4</th>\n",
       "      <td>31.03.2018</td>\n",
       "      <td>31.03.2018</td>\n",
       "      <td>Initial Balance</td>\n",
       "      <td></td>\n",
       "      <td></td>\n",
       "      <td></td>\n",
       "      <td>0.00</td>\n",
       "    </tr>\n",
       "    <tr>\n",
       "      <th>5</th>\n",
       "      <td>01.04.2018</td>\n",
       "      <td>01.04.2018</td>\n",
       "      <td>VALUE DATED BALANCE BROUGHT FORWARD</td>\n",
       "      <td>01.04.2018</td>\n",
       "      <td></td>\n",
       "      <td>180,431,640.00</td>\n",
       "      <td>180,431,640.00</td>\n",
       "    </tr>\n",
       "    <tr>\n",
       "      <th>6</th>\n",
       "      <td>06.04.2018</td>\n",
       "      <td>06.04.2018</td>\n",
       "      <td>INTEREST-FIXED TERM LOAN</td>\n",
       "      <td>06.04.2018</td>\n",
       "      <td>472,500.00</td>\n",
       "      <td></td>\n",
       "      <td>179,959,140.00</td>\n",
       "    </tr>\n",
       "    <tr>\n",
       "      <th>7</th>\n",
       "      <td></td>\n",
       "      <td></td>\n",
       "      <td>Contract No: 3001-AA18091ZN72C|Interest rate:</td>\n",
       "      <td></td>\n",
       "      <td></td>\n",
       "      <td></td>\n",
       "      <td></td>\n",
       "    </tr>\n",
       "    <tr>\n",
       "      <th>8</th>\n",
       "      <td></td>\n",
       "      <td></td>\n",
       "      <td>0.810000%|Capital: 1,000,000,000.00|Period: 16...</td>\n",
       "      <td></td>\n",
       "      <td></td>\n",
       "      <td></td>\n",
       "      <td></td>\n",
       "    </tr>\n",
       "  </tbody>\n",
       "</table>\n",
       "</div>"
      ],
      "text/plain": [
       "  Booking Date    Txn Date                                       Booking Text  \\\n",
       "4   31.03.2018  31.03.2018                                    Initial Balance   \n",
       "5   01.04.2018  01.04.2018                VALUE DATED BALANCE BROUGHT FORWARD   \n",
       "6   06.04.2018  06.04.2018                           INTEREST-FIXED TERM LOAN   \n",
       "7                               Contract No: 3001-AA18091ZN72C|Interest rate:   \n",
       "8                           0.810000%|Capital: 1,000,000,000.00|Period: 16...   \n",
       "\n",
       "   Value Date       Debit          Credit         Balance  \n",
       "4                                                    0.00  \n",
       "5  01.04.2018              180,431,640.00  180,431,640.00  \n",
       "6  06.04.2018  472,500.00                  179,959,140.00  \n",
       "7                                                          \n",
       "8                                                          "
      ]
     },
     "execution_count": 8,
     "metadata": {},
     "output_type": "execute_result"
    }
   ],
   "source": [
    "df.head()"
   ]
  },
  {
   "cell_type": "markdown",
   "metadata": {},
   "source": [
    "### Merge the rows above that don't have balance entry\n",
    "This perticular column was chosen since the other columns can be empty while the balance entry always exists"
   ]
  },
  {
   "cell_type": "code",
   "execution_count": 9,
   "metadata": {},
   "outputs": [
    {
     "data": {
      "text/plain": [
       "[4, 5, 6, 10, 14, 16, 18, 22, 24, 28, 30]"
      ]
     },
     "execution_count": 9,
     "metadata": {},
     "output_type": "execute_result"
    }
   ],
   "source": [
    "# index if each valid entry starting row\n",
    "starts = list(df.index[df['Balance'].astype(bool)])\n",
    "starts"
   ]
  },
  {
   "cell_type": "code",
   "execution_count": 10,
   "metadata": {},
   "outputs": [
    {
     "name": "stderr",
     "output_type": "stream",
     "text": [
      "/home/dumbpy/applications/anaconda3/lib/python3.7/site-packages/IPython/core/interactiveshell.py:3331: SettingWithCopyWarning: \n",
      "A value is trying to be set on a copy of a slice from a DataFrame\n",
      "\n",
      "See the caveats in the documentation: https://pandas.pydata.org/pandas-docs/stable/user_guide/indexing.html#returning-a-view-versus-a-copy\n",
      "  exec(code_obj, self.user_global_ns, self.user_ns)\n"
     ]
    }
   ],
   "source": [
    "for i,j in zip(starts[:-1],starts[1:]):\n",
    "    df['Booking Text'][i] = \"\\n\".join(df['Booking Text'].loc[i:j-1])\n",
    "df = df[df['Balance'].astype(bool)]"
   ]
  },
  {
   "cell_type": "code",
   "execution_count": 11,
   "metadata": {},
   "outputs": [],
   "source": [
    "df = df.reset_index(drop=True)"
   ]
  },
  {
   "cell_type": "code",
   "execution_count": 12,
   "metadata": {},
   "outputs": [
    {
     "data": {
      "text/html": [
       "<div>\n",
       "<style scoped>\n",
       "    .dataframe tbody tr th:only-of-type {\n",
       "        vertical-align: middle;\n",
       "    }\n",
       "\n",
       "    .dataframe tbody tr th {\n",
       "        vertical-align: top;\n",
       "    }\n",
       "\n",
       "    .dataframe thead th {\n",
       "        text-align: right;\n",
       "    }\n",
       "</style>\n",
       "<table border=\"1\" class=\"dataframe\">\n",
       "  <thead>\n",
       "    <tr style=\"text-align: right;\">\n",
       "      <th></th>\n",
       "      <th>Booking Date</th>\n",
       "      <th>Txn Date</th>\n",
       "      <th>Booking Text</th>\n",
       "      <th>Value Date</th>\n",
       "      <th>Debit</th>\n",
       "      <th>Credit</th>\n",
       "      <th>Balance</th>\n",
       "    </tr>\n",
       "  </thead>\n",
       "  <tbody>\n",
       "    <tr>\n",
       "      <th>0</th>\n",
       "      <td>31.03.2018</td>\n",
       "      <td>31.03.2018</td>\n",
       "      <td>Initial Balance</td>\n",
       "      <td></td>\n",
       "      <td></td>\n",
       "      <td></td>\n",
       "      <td>0.00</td>\n",
       "    </tr>\n",
       "    <tr>\n",
       "      <th>1</th>\n",
       "      <td>01.04.2018</td>\n",
       "      <td>01.04.2018</td>\n",
       "      <td>VALUE DATED BALANCE BROUGHT FORWARD</td>\n",
       "      <td>01.04.2018</td>\n",
       "      <td></td>\n",
       "      <td>180,431,640.00</td>\n",
       "      <td>180,431,640.00</td>\n",
       "    </tr>\n",
       "    <tr>\n",
       "      <th>2</th>\n",
       "      <td>06.04.2018</td>\n",
       "      <td>06.04.2018</td>\n",
       "      <td>INTEREST-FIXED TERM LOAN\\nContract No: 3001-AA...</td>\n",
       "      <td>06.04.2018</td>\n",
       "      <td>472,500.00</td>\n",
       "      <td></td>\n",
       "      <td>179,959,140.00</td>\n",
       "    </tr>\n",
       "    <tr>\n",
       "      <th>3</th>\n",
       "      <td>06.04.2018</td>\n",
       "      <td>06.04.2018</td>\n",
       "      <td>INTEREST-FIXED TERM LOAN\\nContract No: 3001-AA...</td>\n",
       "      <td>06.04.2018</td>\n",
       "      <td>315,000.00</td>\n",
       "      <td></td>\n",
       "      <td>179,644,140.00</td>\n",
       "    </tr>\n",
       "    <tr>\n",
       "      <th>4</th>\n",
       "      <td>06.04.2018</td>\n",
       "      <td>06.04.2018</td>\n",
       "      <td>FOREX SPOT\\nEUR/JPY 130.7271</td>\n",
       "      <td>06.04.2018</td>\n",
       "      <td></td>\n",
       "      <td>472,500.00</td>\n",
       "      <td>180,116,640.00</td>\n",
       "    </tr>\n",
       "    <tr>\n",
       "      <th>5</th>\n",
       "      <td>06.04.2018</td>\n",
       "      <td>06.04.2018</td>\n",
       "      <td>FOREX SPOT\\nEUR/JPY 130.7021</td>\n",
       "      <td>06.04.2018</td>\n",
       "      <td></td>\n",
       "      <td>315,000.00</td>\n",
       "      <td>180,431,640.00</td>\n",
       "    </tr>\n",
       "    <tr>\n",
       "      <th>6</th>\n",
       "      <td>09.04.2018</td>\n",
       "      <td>09.04.2018</td>\n",
       "      <td>INTEREST-FIXED TERM LOAN\\nContract No: 3001-AA...</td>\n",
       "      <td>09.04.2018</td>\n",
       "      <td>157,500.00</td>\n",
       "      <td></td>\n",
       "      <td>180,274,140.00</td>\n",
       "    </tr>\n",
       "    <tr>\n",
       "      <th>7</th>\n",
       "      <td>09.04.2018</td>\n",
       "      <td>09.04.2018</td>\n",
       "      <td>FOREX SPOT\\nEUR/JPY 131.1407</td>\n",
       "      <td>09.04.2018</td>\n",
       "      <td></td>\n",
       "      <td>157,500.00</td>\n",
       "      <td>180,431,640.00</td>\n",
       "    </tr>\n",
       "    <tr>\n",
       "      <th>8</th>\n",
       "      <td>10.04.2018</td>\n",
       "      <td>10.04.2018</td>\n",
       "      <td>INTEREST-FIXED TERM LOAN\\n\\n\\nContract No: 300...</td>\n",
       "      <td>10.04.2018</td>\n",
       "      <td>157,500.00</td>\n",
       "      <td></td>\n",
       "      <td>180,274,140.00</td>\n",
       "    </tr>\n",
       "    <tr>\n",
       "      <th>9</th>\n",
       "      <td>10.04.2018</td>\n",
       "      <td>10.04.2018</td>\n",
       "      <td>FOREX SPOT\\nEUR/JPY 131.1953</td>\n",
       "      <td>10.04.2018</td>\n",
       "      <td></td>\n",
       "      <td>157,500.00</td>\n",
       "      <td>180,431,640.00</td>\n",
       "    </tr>\n",
       "    <tr>\n",
       "      <th>10</th>\n",
       "      <td></td>\n",
       "      <td></td>\n",
       "      <td>Carried forward</td>\n",
       "      <td></td>\n",
       "      <td></td>\n",
       "      <td></td>\n",
       "      <td>180,431,640.00</td>\n",
       "    </tr>\n",
       "  </tbody>\n",
       "</table>\n",
       "</div>"
      ],
      "text/plain": [
       "   Booking Date    Txn Date  \\\n",
       "0    31.03.2018  31.03.2018   \n",
       "1    01.04.2018  01.04.2018   \n",
       "2    06.04.2018  06.04.2018   \n",
       "3    06.04.2018  06.04.2018   \n",
       "4    06.04.2018  06.04.2018   \n",
       "5    06.04.2018  06.04.2018   \n",
       "6    09.04.2018  09.04.2018   \n",
       "7    09.04.2018  09.04.2018   \n",
       "8    10.04.2018  10.04.2018   \n",
       "9    10.04.2018  10.04.2018   \n",
       "10                            \n",
       "\n",
       "                                         Booking Text  Value Date       Debit  \\\n",
       "0                                     Initial Balance                           \n",
       "1                 VALUE DATED BALANCE BROUGHT FORWARD  01.04.2018               \n",
       "2   INTEREST-FIXED TERM LOAN\\nContract No: 3001-AA...  06.04.2018  472,500.00   \n",
       "3   INTEREST-FIXED TERM LOAN\\nContract No: 3001-AA...  06.04.2018  315,000.00   \n",
       "4                        FOREX SPOT\\nEUR/JPY 130.7271  06.04.2018               \n",
       "5                        FOREX SPOT\\nEUR/JPY 130.7021  06.04.2018               \n",
       "6   INTEREST-FIXED TERM LOAN\\nContract No: 3001-AA...  09.04.2018  157,500.00   \n",
       "7                        FOREX SPOT\\nEUR/JPY 131.1407  09.04.2018               \n",
       "8   INTEREST-FIXED TERM LOAN\\n\\n\\nContract No: 300...  10.04.2018  157,500.00   \n",
       "9                        FOREX SPOT\\nEUR/JPY 131.1953  10.04.2018               \n",
       "10                                    Carried forward                           \n",
       "\n",
       "            Credit         Balance  \n",
       "0                             0.00  \n",
       "1   180,431,640.00  180,431,640.00  \n",
       "2                   179,959,140.00  \n",
       "3                   179,644,140.00  \n",
       "4       472,500.00  180,116,640.00  \n",
       "5       315,000.00  180,431,640.00  \n",
       "6                   180,274,140.00  \n",
       "7       157,500.00  180,431,640.00  \n",
       "8                   180,274,140.00  \n",
       "9       157,500.00  180,431,640.00  \n",
       "10                  180,431,640.00  "
      ]
     },
     "execution_count": 12,
     "metadata": {},
     "output_type": "execute_result"
    }
   ],
   "source": [
    "df"
   ]
  }
 ],
 "metadata": {
  "kernelspec": {
   "display_name": "Python 3.6.8 64-bit ('base': conda)",
   "language": "python",
   "name": "python36864bitbaseconda5bf6fb4b7f9f47bcb90c0a908e37149f"
  },
  "language_info": {
   "codemirror_mode": {
    "name": "ipython",
    "version": 3
   },
   "file_extension": ".py",
   "mimetype": "text/x-python",
   "name": "python",
   "nbconvert_exporter": "python",
   "pygments_lexer": "ipython3",
   "version": "3.7.6"
  }
 },
 "nbformat": 4,
 "nbformat_minor": 4
}
